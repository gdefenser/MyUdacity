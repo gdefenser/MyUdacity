{
 "cells": [
  {
   "cell_type": "markdown",
   "metadata": {},
   "source": [
    "### 运行环境"
   ]
  },
  {
   "cell_type": "markdown",
   "metadata": {},
   "source": [
    "Python3.6.2+keras2.0.8+jupyter1.0.0+Windows10"
   ]
  },
  {
   "cell_type": "markdown",
   "metadata": {},
   "source": [
    "### 硬件环境"
   ]
  },
  {
   "cell_type": "markdown",
   "metadata": {},
   "source": [
    "处理器(CPU)：英特尔 Core i7-6700HQ @ 2.60GHz 四核\n",
    "\n",
    "内存：24 GB\n",
    "\n",
    "显卡：Nvidia GeForce GTX 960M ( 2 GB )"
   ]
  },
  {
   "cell_type": "markdown",
   "metadata": {},
   "source": [
    "### 代码说明"
   ]
  },
  {
   "cell_type": "markdown",
   "metadata": {},
   "source": [
    "utils.py：无修改\n",
    "\n",
    "params.py ：修改了参数路径\n",
    "\n",
    "run.py：修改了img_pre_process()方法，其他无修改\n",
    "\n",
    "processor.py：自定义处理文件,与其他py文件在同一目录即可"
   ]
  },
  {
   "cell_type": "markdown",
   "metadata": {},
   "source": [
    "### 代码运行时间"
   ]
  },
  {
   "cell_type": "markdown",
   "metadata": {},
   "source": [
    "nvidia模型：474s\n",
    "\n",
    "自建模型：9850s"
   ]
  },
  {
   "cell_type": "markdown",
   "metadata": {
    "collapsed": true
   },
   "source": [
    "### 代码结果说明"
   ]
  },
  {
   "cell_type": "markdown",
   "metadata": {},
   "source": [
    "1）详细代码可见code.ipynb\n",
    "\n",
    "2）注意，由于换了几台机子均无法生成MP4文件，故先提交mkv文件"
   ]
  },
  {
   "cell_type": "code",
   "execution_count": null,
   "metadata": {
    "collapsed": true
   },
   "outputs": [],
   "source": []
  }
 ],
 "metadata": {
  "kernelspec": {
   "display_name": "Python 3",
   "language": "python",
   "name": "python3"
  },
  "language_info": {
   "codemirror_mode": {
    "name": "ipython",
    "version": 3
   },
   "file_extension": ".py",
   "mimetype": "text/x-python",
   "name": "python",
   "nbconvert_exporter": "python",
   "pygments_lexer": "ipython3",
   "version": "3.6.2"
  }
 },
 "nbformat": 4,
 "nbformat_minor": 2
}
