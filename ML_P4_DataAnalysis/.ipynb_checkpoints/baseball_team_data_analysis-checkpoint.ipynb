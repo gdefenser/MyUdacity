{
 "cells": [
  {
   "cell_type": "markdown",
   "metadata": {},
   "source": [
    "# 1 分析阶段"
   ]
  },
  {
   "cell_type": "markdown",
   "metadata": {},
   "source": [
    "## 1.1 提出分析的问题\n",
    "\n",
    "1) 最近10年夺取总冠军的队伍的数据有什么特点\n",
    "\n",
    "2) 最近10年入选全明星的球员的数据有什么特点"
   ]
  },
  {
   "cell_type": "markdown",
   "metadata": {},
   "source": [
    "## 1.2 获取使用的数据文件\n",
    "AllstarFull.csv\t历年全明星球员数据\n",
    "\n",
    "Batting.csv\t    历年球员赛季击球数据\n",
    "\n",
    "Teams.csv\t    历年队伍数据"
   ]
  },
  {
   "cell_type": "markdown",
   "metadata": {},
   "source": [
    "# 2 数据整理阶段"
   ]
  },
  {
   "cell_type": "markdown",
   "metadata": {},
   "source": [
    "## 2.1 引用需要使用的第三方库\n"
   ]
  },
  {
   "cell_type": "code",
   "execution_count": 63,
   "metadata": {
    "collapsed": true
   },
   "outputs": [],
   "source": [
    "import numpy as np\n",
    "import pandas as pd\n",
    "import matplotlib.pyplot as plt"
   ]
  },
  {
   "cell_type": "markdown",
   "metadata": {},
   "source": [
    "## 2.2 读取数据集\n",
    "\n",
    "相关数据集只读取最近10年的数据，以提高后续数据处理的效率"
   ]
  },
  {
   "cell_type": "code",
   "execution_count": 64,
   "metadata": {
    "collapsed": true
   },
   "outputs": [],
   "source": [
    "folder_path = '/home/loveshadev/PycharmProjects/Udacity/ML_P4_DataAnalysis/'\n",
    "\n",
    "#filter Data set\n",
    "def filterDfByLastTenYears(df):\n",
    "    return df[(df['yearID'] >= 2007) & (df['yearID'] <= 2017)]\n",
    "\n",
    "#read data-set of All star\n",
    "df_allstar = filterDfByLastTenYears(pd.read_csv(folder_path+'AllstarFull.csv'))\n",
    "#read data-set of Batting\n",
    "df_batting = filterDfByLastTenYears(pd.read_csv(folder_path+'Batting.csv'))\n",
    "#read data-set of Teams\n",
    "df_teams = filterDfByLastTenYears(pd.read_csv(folder_path+'Teams.csv'))"
   ]
  },
  {
   "cell_type": "markdown",
   "metadata": {},
   "source": [
    "## 2.3 检查数据集数据量"
   ]
  },
  {
   "cell_type": "code",
   "execution_count": 65,
   "metadata": {
    "collapsed": false
   },
   "outputs": [
    {
     "name": "stdout",
     "output_type": "stream",
     "text": [
      "759\n",
      "14124\n",
      "300\n"
     ]
    }
   ],
   "source": [
    "print len(df_allstar)\n",
    "print len(df_batting)\n",
    "print len(df_teams)"
   ]
  },
  {
   "cell_type": "markdown",
   "metadata": {},
   "source": [
    "## 2.4 确定数据集的特征关键字字段\n",
    "\n",
    "经过检查\n",
    "\n",
    "数据集AllstarFull.csv中包含以下特征字段playerID,teamID\n",
    "\n",
    "数据集Batting.csv中包含以下特征字段playerID,teamID\n",
    "\n",
    "数据集Teams.csv中包含以下特征字段teamID"
   ]
  },
  {
   "cell_type": "markdown",
   "metadata": {},
   "source": [
    "# 3 探索阶段"
   ]
  },
  {
   "cell_type": "markdown",
   "metadata": {},
   "source": [
    "## 3.1 确定问题探索的数据集列\n",
    "### 3.1.1 针对问题【最近10年夺取总冠军的队伍的数据有什么特点】的探索数据列\n",
    "            (1)胜率:胜场数/参赛数 df_teams['W']/df_teams['G']\n",
    "            (2)全垒打数 df_teams['HR']\n",
    "            (3)三振数 df_teams['SO']\n",
    "            (4)盗垒数 df_teams['SB']\n",
    "\n",
    "### 3.1.2 针对问题【最近10年入选全明星的球员的数据有什么特点】的探索数据列\n",
    "            (1)打击率:安打数/打数 df_batting['H']/df_batting['AB']\n",
    "            (2)全垒打数 df_batting['HR']\n",
    "            (3)三振数 df_batting['SO']\n",
    "            (4)盗垒数 df_batting['SB']"
   ]
  },
  {
   "cell_type": "markdown",
   "metadata": {},
   "source": [
    "## 3.2 确定问题探索的对比对象\n",
    "### 3.2.1 针对问题【最近10年夺取总冠军的队伍的数据有什么特点】的对比对象\n",
    "            与同一年的其他队伍的相同数据列的统计指标对比\n",
    "            \n",
    "            统计指标包含： \n",
    "            均值   \n",
    "            \n",
    "### 3.2.2 针对问题【最近10年入选全明星的球员的数据有什么特点】的对比对象\n",
    "            与同一年的所有队伍中的球员相同数据列的统计指标对比\n",
    "            \n",
    "            统计指标包含：      \n",
    "            均值      "
   ]
  },
  {
   "cell_type": "markdown",
   "metadata": {},
   "source": [
    "## 3.3 问题探索过程"
   ]
  },
  {
   "cell_type": "markdown",
   "metadata": {},
   "source": [
    "### 3.3.1 创建公共使用的探索方法"
   ]
  },
  {
   "cell_type": "markdown",
   "metadata": {},
   "source": [
    "创建打印每年统计指标的函数，加入适当文字说明"
   ]
  },
  {
   "cell_type": "code",
   "execution_count": 108,
   "metadata": {
    "collapsed": true
   },
   "outputs": [],
   "source": [
    "def printDiscrtption(df):\n",
    "    print 'Minimum value by each year'\n",
    "    print df.min()\n",
    "    print '============================================'\n",
    "    print 'Maximum value by each year'\n",
    "    print df.max()\n",
    "    print '============================================'\n",
    "    print 'Mean value by each year'\n",
    "    print df.mean()\n",
    "    print '============================================'\n",
    "    print 'Standard deviation by each year'\n",
    "    print df.std()"
   ]
  },
  {
   "cell_type": "markdown",
   "metadata": {},
   "source": [
    "画出对比折线图的函数"
   ]
  },
  {
   "cell_type": "code",
   "execution_count": 109,
   "metadata": {
    "collapsed": true
   },
   "outputs": [],
   "source": [
    "def drawGrid(x1_set,y1_set,x2_set,y2_set,label_1,label_2):\n",
    "    plt.plot(x1_set, y1_set, 'r', label=label_1)\n",
    "    plt.plot(x2_set, y2_set, 'b', label=label_2)\n",
    "    plt.legend(bbox_to_anchor=[0.4, 1])\n",
    "    plt.grid()"
   ]
  },
  {
   "cell_type": "markdown",
   "metadata": {},
   "source": [
    "### 3.3.2 针对问题【最近10年夺取总冠军的队伍的数据有什么特点】的数据探索处理"
   ]
  },
  {
   "cell_type": "code",
   "execution_count": 110,
   "metadata": {
    "collapsed": false
   },
   "outputs": [],
   "source": [
    "# 计算胜率方法\n",
    "def calculateWinRate(df_teams_row):\n",
    "    return float(df_teams_row.W) / float(df_teams_row.W+df_teams_row.L)\n",
    "# 添加胜率列至整体数据集\n",
    "df_teams['WinRate'] = df_teams.apply(calculateWinRate,axis=1)\n",
    "# 按年度等字段分组整体数据集\n",
    "df_analysis_all_teams = df_teams.groupby(['yearID'])['yearID','W','L','WinRate','HR','SO','SB']\n",
    "# 获取总冠军队伍数据集\n",
    "df_analysis_champion_teams = df_teams[df_teams['WSWin']=='Y'][['yearID','W','L','WinRate','HR','SO','SB']]"
   ]
  },
  {
   "cell_type": "markdown",
   "metadata": {},
   "source": [
    "打印按年度统计的整体数据集"
   ]
  },
  {
   "cell_type": "code",
   "execution_count": 111,
   "metadata": {
    "collapsed": false
   },
   "outputs": [
    {
     "name": "stdout",
     "output_type": "stream",
     "text": [
      "Minimum value by each year\n",
      "        yearID   W   L   WinRate   HR      SO    SB\n",
      "yearID                                             \n",
      "2007      2007  66  66  0.407407  102   839.0  52.0\n",
      "2008      2008  59  62  0.366460   94   890.0  36.0\n",
      "2009      2009  59  59  0.364198   95   928.0  56.0\n",
      "2010      2010  57  65  0.351852  101   905.0  55.0\n",
      "2011      2011  56  60  0.345679   91   930.0  49.0\n",
      "2012      2012  55  64  0.339506  103  1032.0  58.0\n",
      "2013      2013  51  65  0.314815   95  1048.0  35.0\n",
      "2014      2014  64  64  0.395062   95   985.0  44.0\n",
      "2015      2015  63  62  0.388889  100   973.0  44.0\n",
      "2016      2016  59  58  0.364198  122   991.0  19.0\n",
      "============================================\n",
      "Maximum value by each year\n",
      "        yearID    W    L   WinRate   HR      SO     SB\n",
      "yearID                                                \n",
      "2007      2007   96   96  0.592593  231  1332.0  200.0\n",
      "2008      2008  100  102  0.617284  235  1371.0  142.0\n",
      "2009      2009  103  103  0.635802  244  1298.0  194.0\n",
      "2010      2010   97  105  0.598765  257  1529.0  172.0\n",
      "2011      2011  102  106  0.629630  222  1323.0  170.0\n",
      "2012      2012   98  107  0.604938  245  1387.0  158.0\n",
      "2013      2013   97  111  0.598765  212  1535.0  153.0\n",
      "2014      2014   98   98  0.604938  211  1477.0  153.0\n",
      "2015      2015  100   99  0.617284  232  1518.0  134.0\n",
      "2016      2016  103  103  0.639752  253  1543.0  181.0\n",
      "============================================\n",
      "Mean value by each year\n",
      "        yearID          W          L   WinRate          HR           SO  \\\n",
      "yearID                                                                    \n",
      "2007    2007.0  81.033333  81.033333  0.499980  165.233333  1072.966667   \n",
      "2008    2008.0  80.933333  80.933333  0.499964  162.600000  1096.133333   \n",
      "2009    2009.0  81.000000  81.000000  0.499967  168.066667  1119.700000   \n",
      "2010    2010.0  81.000000  81.000000  0.500000  153.766667  1143.533333   \n",
      "2011    2011.0  80.966667  80.966667  0.500001  151.733333  1149.600000   \n",
      "2012    2012.0  81.000000  81.000000  0.500000  164.466667  1214.200000   \n",
      "2013    2013.0  81.033333  81.033333  0.499975  155.366667  1223.666667   \n",
      "2014    2014.0  81.000000  81.000000  0.500000  139.533333  1248.033333   \n",
      "2015    2015.0  80.966667  80.966667  0.499992  163.633333  1248.200000   \n",
      "2016    2016.0  80.900000  80.900000  0.500032  187.000000  1299.400000   \n",
      "\n",
      "                SB  \n",
      "yearID              \n",
      "2007     97.266667  \n",
      "2008     93.300000  \n",
      "2009     99.000000  \n",
      "2010     98.633333  \n",
      "2011    109.300000  \n",
      "2012    107.633333  \n",
      "2013     89.766667  \n",
      "2014     92.133333  \n",
      "2015     83.500000  \n",
      "2016     84.566667  \n",
      "============================================\n",
      "Standard deviation by each year\n",
      "        yearID          W          L   WinRate         HR          SO  \\\n",
      "yearID                                                                  \n",
      "2007       0.0   9.293985   9.234431  0.057163  30.340235  133.354462   \n",
      "2008       0.0  11.085664  10.998223  0.068247  33.819603  116.428084   \n",
      "2009       0.0  11.434974  11.356299  0.070369  33.073516   95.524379   \n",
      "2010       0.0  11.004701  11.004701  0.067930  33.517554  130.985846   \n",
      "2011       0.0  11.415305  11.418326  0.070470  35.587612  108.049988   \n",
      "2012       0.0  11.933725  11.933725  0.073665  32.974110   95.277598   \n",
      "2013       0.0  12.254439  12.198031  0.075445  26.151394  116.096076   \n",
      "2014       0.0   9.598851   9.598851  0.059252  25.161182  109.184274   \n",
      "2015       0.0  10.453455  10.433644  0.064467  31.823309  103.759470   \n",
      "2016       0.0  10.668516  10.749018  0.066201  31.936359  120.331611   \n",
      "\n",
      "               SB  \n",
      "yearID             \n",
      "2007    33.870884  \n",
      "2008    28.608113  \n",
      "2009    30.703252  \n",
      "2010    31.206192  \n",
      "2011    29.868851  \n",
      "2012    25.290701  \n",
      "2013    31.237338  \n",
      "2014    25.078818  \n",
      "2015    22.815225  \n",
      "2016    36.583097  \n"
     ]
    }
   ],
   "source": [
    "printDiscrtption(df_analysis_all_teams)"
   ]
  },
  {
   "cell_type": "markdown",
   "metadata": {},
   "source": [
    "打印按年度统计的总冠军数据集"
   ]
  },
  {
   "cell_type": "code",
   "execution_count": 112,
   "metadata": {
    "collapsed": false
   },
   "outputs": [
    {
     "name": "stdout",
     "output_type": "stream",
     "text": [
      "      yearID    W   L   WinRate   HR      SO     SB\n",
      "2538    2007   96  66  0.592593  166  1042.0   96.0\n",
      "2585    2008   92  70  0.567901  214  1117.0  136.0\n",
      "2612    2009  103  59  0.635802  244  1014.0  111.0\n",
      "2649    2010   92  70  0.567901  162  1099.0   55.0\n",
      "2680    2011   90  72  0.555556  162   978.0   57.0\n",
      "2709    2012   94  68  0.580247  103  1097.0  118.0\n",
      "2718    2013   97  65  0.598765  178  1308.0  123.0\n",
      "2769    2014   88  74  0.543210  132  1245.0   56.0\n",
      "2786    2015   95  67  0.586420  139   973.0  104.0\n",
      "2810    2016  103  58  0.639752  199  1339.0   66.0\n"
     ]
    }
   ],
   "source": [
    "print df_analysis_champion_teams"
   ]
  },
  {
   "cell_type": "code",
   "execution_count": 113,
   "metadata": {
    "collapsed": false
   },
   "outputs": [
    {
     "name": "stdout",
     "output_type": "stream",
     "text": [
      "Populating the interactive namespace from numpy and matplotlib\n"
     ]
    }
   ],
   "source": [
    "%pylab inline\n",
    "label_1 = 'All Team'\n",
    "label_2 = 'Champion Teams'"
   ]
  },
  {
   "cell_type": "markdown",
   "metadata": {},
   "source": [
    "对比整体数据集胜率均值和总冠军数据集的胜率"
   ]
  },
  {
   "cell_type": "code",
   "execution_count": 114,
   "metadata": {
    "collapsed": false
   },
   "outputs": [
    {
     "data": {
      "image/png": "[encoded data removed]",
      "text/plain": [
       "<matplotlib.figure.Figure at 0x7fadb70a9a90>"
      ]
     },
     "metadata": {},
     "output_type": "display_data"
    }
   ],
   "source": [
    "drawGrid(\n",
    "    df_analysis_all_teams.mean()['yearID'],\n",
    "    df_analysis_all_teams.mean()['WinRate'],\n",
    "    df_analysis_champion_teams['yearID'],\n",
    "    df_analysis_champion_teams['WinRate'],\n",
    "    label_1,\n",
    "    label_2\n",
    ")"
   ]
  },
  {
   "cell_type": "markdown",
   "metadata": {},
   "source": [
    "对比整体数据集全垒打数均值和总冠军数据集的全垒打数"
   ]
  },
  {
   "cell_type": "code",
   "execution_count": 107,
   "metadata": {
    "collapsed": false
   },
   "outputs": [
    {
     "data": {
      "image/png": "[encoded data removed]",
      "text/plain": [
       "<matplotlib.figure.Figure at 0x7fadb7710d90>"
      ]
     },
     "metadata": {},
     "output_type": "display_data"
    }
   ],
   "source": [
    "drawGrid(\n",
    "    df_analysis_all_teams.mean()['yearID'],\n",
    "    df_analysis_all_teams.mean()['HR'],\n",
    "    df_analysis_champion_teams['yearID'],\n",
    "    df_analysis_champion_teams['HR'],\n",
    "    label_1,\n",
    "    label_2\n",
    ")"
   ]
  },
  {
   "cell_type": "markdown",
   "metadata": {},
   "source": [
    "对比整体数据集三振数均值和总冠军数据集的三振数"
   ]
  },
  {
   "cell_type": "code",
   "execution_count": 115,
   "metadata": {
    "collapsed": false
   },
   "outputs": [
    {
     "data": {
      "image/png": "[encoded data removed]",
      "text/plain": [
       "<matplotlib.figure.Figure at 0x7fadb6c89350>"
      ]
     },
     "metadata": {},
     "output_type": "display_data"
    }
   ],
   "source": [
    "drawGrid(\n",
    "    df_analysis_all_teams.mean()['yearID'],\n",
    "    df_analysis_all_teams.mean()['SO'],\n",
    "    df_analysis_champion_teams['yearID'],\n",
    "    df_analysis_champion_teams['SO'],\n",
    "    label_1,\n",
    "    label_2\n",
    ")"
   ]
  },
  {
   "cell_type": "markdown",
   "metadata": {},
   "source": [
    "对比整体数据集盗垒数均值和总冠军数据集的盗垒数"
   ]
  },
  {
   "cell_type": "code",
   "execution_count": 116,
   "metadata": {
    "collapsed": false
   },
   "outputs": [
    {
     "data": {
      "image/png": "[encoded data removed]",
      "text/plain": [
       "<matplotlib.figure.Figure at 0x7fadb7252c90>"
      ]
     },
     "metadata": {},
     "output_type": "display_data"
    }
   ],
   "source": [
    "drawGrid(\n",
    "    df_analysis_all_teams.mean()['yearID'],\n",
    "    df_analysis_all_teams.mean()['SB'],\n",
    "    df_analysis_champion_teams['yearID'],\n",
    "    df_analysis_champion_teams['SB'],\n",
    "    label_1,\n",
    "    label_2\n",
    ")"
   ]
  },
  {
   "cell_type": "markdown",
   "metadata": {},
   "source": [
    "### 3.3.3 针对问题【最近10年入选全明星的球员的数据有什么特点】的数据探索处理"
   ]
  },
  {
   "cell_type": "code",
   "execution_count": null,
   "metadata": {
    "collapsed": true
   },
   "outputs": [],
   "source": [
    "\"\"\"\n",
    "由于全明星数据集只包含入选的球员ID数据\n",
    "其对应的比赛数据保存与数据集df_batting中\n",
    "故针对此问题，需首先将df_allstar和df_batting合并\n",
    "\"\"\"\n"
   ]
  }
 ],
 "metadata": {
  "kernelspec": {
   "display_name": "Python 2",
   "language": "python",
   "name": "python2"
  },
  "language_info": {
   "codemirror_mode": {
    "name": "ipython",
    "version": 2
   },
   "file_extension": ".py",
   "mimetype": "text/x-python",
   "name": "python",
   "nbconvert_exporter": "python",
   "pygments_lexer": "ipython2",
   "version": "2.7.13"
  }
 },
 "nbformat": 4,
 "nbformat_minor": 2
}
