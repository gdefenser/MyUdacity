{
 "cells": [
  {
   "cell_type": "markdown",
   "metadata": {},
   "source": [
    "# 1 分析阶段"
   ]
  },
  {
   "cell_type": "markdown",
   "metadata": {},
   "source": [
    "## 1.1 提出分析的问题\n",
    "\n",
    "1) 最近10年夺取总冠军的队伍的数据有什么特点\n",
    "\n",
    "2) 队伍LAN最近10年入选全明星的球员的数据有什么特点"
   ]
  },
  {
   "cell_type": "markdown",
   "metadata": {},
   "source": [
    "## 1.2 获取使用的数据文件\n",
    "AllstarFull.csv\t历年全明星球员数据\n",
    "\n",
    "Batting.csv\t    历年球员赛季击球数据\n",
    "\n",
    "Teams.csv\t    历年队伍数据"
   ]
  },
  {
   "cell_type": "markdown",
   "metadata": {},
   "source": [
    "# 2 数据整理阶段"
   ]
  },
  {
   "cell_type": "markdown",
   "metadata": {},
   "source": [
    "## 2.1 引用需要使用的第三方库\n"
   ]
  },
  {
   "cell_type": "code",
   "execution_count": 2,
   "metadata": {
    "collapsed": true
   },
   "outputs": [],
   "source": [
    "import numpy as np\n",
    "import pandas as pd\n",
    "import matplotlib.pyplot as plt"
   ]
  },
  {
   "cell_type": "markdown",
   "metadata": {},
   "source": [
    "## 2.2 读取数据集\n",
    "\n",
    "相关数据集只读取最近10年的数据，以提高后续数据处理的效率"
   ]
  },
  {
   "cell_type": "code",
   "execution_count": 3,
   "metadata": {
    "collapsed": true
   },
   "outputs": [],
   "source": [
    "folder_path = '/home/loveshadev/PycharmProjects/Udacity/ML_P4_DataAnalysis/'\n",
    "\n",
    "#filter Data set\n",
    "def filterDfByLastTenYears(df):\n",
    "    return df[(df['yearID'] >= 2007) & (df['yearID'] <= 2017)]\n",
    "\n",
    "#read data-set of All star\n",
    "df_allstar = filterDfByLastTenYears(pd.read_csv(folder_path+'AllstarFull.csv'))\n",
    "#read data-set of Batting\n",
    "df_batting = filterDfByLastTenYears(pd.read_csv(folder_path+'Batting.csv'))\n",
    "#read data-set of Teams\n",
    "df_teams = filterDfByLastTenYears(pd.read_csv(folder_path+'Teams.csv'))"
   ]
  },
  {
   "cell_type": "markdown",
   "metadata": {},
   "source": [
    "## 2.3 检查数据集数据量"
   ]
  },
  {
   "cell_type": "code",
   "execution_count": 4,
   "metadata": {
    "collapsed": false
   },
   "outputs": [
    {
     "name": "stdout",
     "output_type": "stream",
     "text": [
      "759\n",
      "14124\n",
      "300\n"
     ]
    }
   ],
   "source": [
    "print len(df_allstar)\n",
    "print len(df_batting)\n",
    "print len(df_teams)"
   ]
  },
  {
   "cell_type": "markdown",
   "metadata": {},
   "source": [
    "## 2.4 确定数据集的特征关键字字段\n",
    "\n",
    "经过检查\n",
    "\n",
    "数据集AllstarFull.csv中包含以下特征字段playerID,teamID\n",
    "\n",
    "数据集Batting.csv中包含以下特征字段playerID,teamID\n",
    "\n",
    "数据集Teams.csv中包含以下特征字段teamID"
   ]
  },
  {
   "cell_type": "markdown",
   "metadata": {},
   "source": [
    "# 3 探索阶段"
   ]
  },
  {
   "cell_type": "markdown",
   "metadata": {},
   "source": [
    "## 3.1 确定问题探索的数据集列\n",
    "### 3.1.1 针对问题【最近10年夺取总冠军的队伍的数据有什么特点】的探索数据列\n",
    "            (1)胜率:胜场数/参赛数 df_teams['W']/df_teams['G']\n",
    "            (2)全垒打数 df_teams['HR']\n",
    "            (3)三振数 df_teams['SO']\n",
    "            (4)盗垒数 df_teams['SB']\n",
    "\n",
    "### 3.1.2 针对问题【队伍LAN最近10年入选全明星的球员的数据有什么特点】的探索数据列\n",
    "            (1)打击率:安打数/打数 df_batting['H']/df_batting['AB']\n",
    "            (2)全垒打数 df_batting['HR']\n",
    "            (3)三振数 df_batting['SO']\n",
    "            (4)盗垒数 df_batting['SB']"
   ]
  },
  {
   "cell_type": "markdown",
   "metadata": {},
   "source": [
    "## 3.2 确定问题探索的对比对象\n",
    "### 3.2.1 针对问题【最近10年夺取总冠军的队伍的数据有什么特点】的对比对象\n",
    "            与同一年的其他队伍的相同数据列的统计指标对比\n",
    "            \n",
    "            统计指标包含： \n",
    "            均值   \n",
    "            \n",
    "### 3.2.2 针对问题【队伍LAN最近10年入选全明星的球员的数据有什么特点】的对比对象\n",
    "            与同一年的队伍LAN中的球员相同数据列的统计指标对比\n",
    "            \n",
    "            统计指标包含：      \n",
    "            均值      "
   ]
  },
  {
   "cell_type": "markdown",
   "metadata": {},
   "source": [
    "## 3.3 问题探索过程"
   ]
  },
  {
   "cell_type": "markdown",
   "metadata": {},
   "source": [
    "### 3.3.1 创建公共使用的探索方法"
   ]
  },
  {
   "cell_type": "markdown",
   "metadata": {},
   "source": [
    "创建打印每年统计指标的函数，加入适当文字说明"
   ]
  },
  {
   "cell_type": "code",
   "execution_count": 5,
   "metadata": {
    "collapsed": true
   },
   "outputs": [],
   "source": [
    "def printDiscrtption(df):\n",
    "    print 'Minimum value by each year'\n",
    "    print df.min()\n",
    "    print '============================================'\n",
    "    print 'Maximum value by each year'\n",
    "    print df.max()\n",
    "    print '============================================'\n",
    "    print 'Mean value by each year'\n",
    "    print df.mean()\n",
    "    print '============================================'\n",
    "    print 'Standard deviation by each year'\n",
    "    print df.std()"
   ]
  },
  {
   "cell_type": "markdown",
   "metadata": {},
   "source": [
    "画出对比折线图的函数"
   ]
  },
  {
   "cell_type": "code",
   "execution_count": 6,
   "metadata": {
    "collapsed": true
   },
   "outputs": [],
   "source": [
    "def drawGrid(x1_set,y1_set,x2_set,y2_set,label_1,label_2):\n",
    "    plt.plot(x1_set, y1_set, 'r', label=label_1)\n",
    "    plt.plot(x2_set, y2_set, 'b', label=label_2)\n",
    "    plt.legend(bbox_to_anchor=[0.4, 1])\n",
    "    plt.grid()"
   ]
  },
  {
   "cell_type": "markdown",
   "metadata": {},
   "source": [
    "### 3.3.2 针对问题【最近10年夺取总冠军的队伍的数据有什么特点】的数据探索处理"
   ]
  },
  {
   "cell_type": "code",
   "execution_count": 7,
   "metadata": {
    "collapsed": false
   },
   "outputs": [],
   "source": [
    "# 计算胜率方法\n",
    "def calculateWinRate(df_teams_row):\n",
    "    return float(df_teams_row.W) / float(df_teams_row.G)\n",
    "# 添加胜率列至整体数据集\n",
    "df_teams['WinRate'] = df_teams.apply(calculateWinRate,axis=1)\n",
    "# 按年度等字段分组整体数据集\n",
    "df_analysis_all_teams = df_teams.groupby(['yearID'])['yearID','W','L','WinRate','HR','SO','SB']\n",
    "# 获取总冠军队伍数据集\n",
    "df_analysis_champion_teams = df_teams[df_teams['WSWin']=='Y'][['yearID','W','L','WinRate','HR','SO','SB']]"
   ]
  },
  {
   "cell_type": "markdown",
   "metadata": {},
   "source": [
    "打印按年度统计的整体数据集"
   ]
  },
  {
   "cell_type": "code",
   "execution_count": 8,
   "metadata": {
    "collapsed": false
   },
   "outputs": [
    {
     "name": "stdout",
     "output_type": "stream",
     "text": [
      "Minimum value by each year\n",
      "        yearID   W   L   WinRate   HR      SO    SB\n",
      "yearID                                             \n",
      "2007      2007  66  66  0.407407  102   839.0  52.0\n",
      "2008      2008  59  62  0.366460   94   890.0  36.0\n",
      "2009      2009  59  59  0.364198   95   928.0  56.0\n",
      "2010      2010  57  65  0.351852  101   905.0  55.0\n",
      "2011      2011  56  60  0.345679   91   930.0  49.0\n",
      "2012      2012  55  64  0.339506  103  1032.0  58.0\n",
      "2013      2013  51  65  0.314815   95  1048.0  35.0\n",
      "2014      2014  64  64  0.395062   95   985.0  44.0\n",
      "2015      2015  63  62  0.388889  100   973.0  44.0\n",
      "2016      2016  59  58  0.364198  122   991.0  19.0\n",
      "============================================\n",
      "Maximum value by each year\n",
      "        yearID    W    L   WinRate   HR      SO     SB\n",
      "yearID                                                \n",
      "2007      2007   96   96  0.592593  231  1332.0  200.0\n",
      "2008      2008  100  102  0.617284  235  1371.0  142.0\n",
      "2009      2009  103  103  0.635802  244  1298.0  194.0\n",
      "2010      2010   97  105  0.598765  257  1529.0  172.0\n",
      "2011      2011  102  106  0.629630  222  1323.0  170.0\n",
      "2012      2012   98  107  0.604938  245  1387.0  158.0\n",
      "2013      2013   97  111  0.598765  212  1535.0  153.0\n",
      "2014      2014   98   98  0.604938  211  1477.0  153.0\n",
      "2015      2015  100   99  0.617284  232  1518.0  134.0\n",
      "2016      2016  103  103  0.635802  253  1543.0  181.0\n",
      "============================================\n",
      "Mean value by each year\n",
      "        yearID          W          L   WinRate          HR           SO  \\\n",
      "yearID                                                                    \n",
      "2007    2007.0  81.033333  81.033333  0.499980  165.233333  1072.966667   \n",
      "2008    2008.0  80.933333  80.933333  0.499964  162.600000  1096.133333   \n",
      "2009    2009.0  81.000000  81.000000  0.499967  168.066667  1119.700000   \n",
      "2010    2010.0  81.000000  81.000000  0.500000  153.766667  1143.533333   \n",
      "2011    2011.0  80.966667  80.966667  0.500001  151.733333  1149.600000   \n",
      "2012    2012.0  81.000000  81.000000  0.500000  164.466667  1214.200000   \n",
      "2013    2013.0  81.033333  81.033333  0.499975  155.366667  1223.666667   \n",
      "2014    2014.0  81.000000  81.000000  0.500000  139.533333  1248.033333   \n",
      "2015    2015.0  80.966667  80.966667  0.499992  163.633333  1248.200000   \n",
      "2016    2016.0  80.900000  80.900000  0.499801  187.000000  1299.400000   \n",
      "\n",
      "                SB  \n",
      "yearID              \n",
      "2007     97.266667  \n",
      "2008     93.300000  \n",
      "2009     99.000000  \n",
      "2010     98.633333  \n",
      "2011    109.300000  \n",
      "2012    107.633333  \n",
      "2013     89.766667  \n",
      "2014     92.133333  \n",
      "2015     83.500000  \n",
      "2016     84.566667  \n",
      "============================================\n",
      "Standard deviation by each year\n",
      "        yearID          W          L   WinRate         HR          SO  \\\n",
      "yearID                                                                  \n",
      "2007       0.0   9.293985   9.234431  0.057163  30.340235  133.354462   \n",
      "2008       0.0  11.085664  10.998223  0.068247  33.819603  116.428084   \n",
      "2009       0.0  11.434974  11.356299  0.070369  33.073516   95.524379   \n",
      "2010       0.0  11.004701  11.004701  0.067930  33.517554  130.985846   \n",
      "2011       0.0  11.415305  11.418326  0.070470  35.587612  108.049988   \n",
      "2012       0.0  11.933725  11.933725  0.073665  32.974110   95.277598   \n",
      "2013       0.0  12.254439  12.198031  0.075445  26.151394  116.096076   \n",
      "2014       0.0   9.598851   9.598851  0.059252  25.161182  109.184274   \n",
      "2015       0.0  10.453455  10.433644  0.064467  31.823309  103.759470   \n",
      "2016       0.0  10.668516  10.749018  0.065944  31.936359  120.331611   \n",
      "\n",
      "               SB  \n",
      "yearID             \n",
      "2007    33.870884  \n",
      "2008    28.608113  \n",
      "2009    30.703252  \n",
      "2010    31.206192  \n",
      "2011    29.868851  \n",
      "2012    25.290701  \n",
      "2013    31.237338  \n",
      "2014    25.078818  \n",
      "2015    22.815225  \n",
      "2016    36.583097  \n"
     ]
    }
   ],
   "source": [
    "printDiscrtption(df_analysis_all_teams)"
   ]
  },
  {
   "cell_type": "markdown",
   "metadata": {},
   "source": [
    "从上述统计项可看出，每年的数据落差较大"
   ]
  },
  {
   "cell_type": "markdown",
   "metadata": {},
   "source": [
    " "
   ]
  },
  {
   "cell_type": "markdown",
   "metadata": {},
   "source": [
    "打印按年度统计的总冠军数据集"
   ]
  },
  {
   "cell_type": "code",
   "execution_count": 9,
   "metadata": {
    "collapsed": false
   },
   "outputs": [
    {
     "name": "stdout",
     "output_type": "stream",
     "text": [
      "      yearID    W   L   WinRate   HR      SO     SB\n",
      "2538    2007   96  66  0.592593  166  1042.0   96.0\n",
      "2585    2008   92  70  0.567901  214  1117.0  136.0\n",
      "2612    2009  103  59  0.635802  244  1014.0  111.0\n",
      "2649    2010   92  70  0.567901  162  1099.0   55.0\n",
      "2680    2011   90  72  0.555556  162   978.0   57.0\n",
      "2709    2012   94  68  0.580247  103  1097.0  118.0\n",
      "2718    2013   97  65  0.598765  178  1308.0  123.0\n",
      "2769    2014   88  74  0.543210  132  1245.0   56.0\n",
      "2786    2015   95  67  0.586420  139   973.0  104.0\n",
      "2810    2016  103  58  0.635802  199  1339.0   66.0\n"
     ]
    }
   ],
   "source": [
    "print df_analysis_champion_teams"
   ]
  },
  {
   "cell_type": "markdown",
   "metadata": {},
   "source": [
    "从上述统计项可看出，几乎每年夺取总冠军的队伍其胜率在50%以上"
   ]
  },
  {
   "cell_type": "markdown",
   "metadata": {},
   "source": [
    " "
   ]
  },
  {
   "cell_type": "code",
   "execution_count": 31,
   "metadata": {
    "collapsed": false
   },
   "outputs": [
    {
     "name": "stdout",
     "output_type": "stream",
     "text": [
      "Populating the interactive namespace from numpy and matplotlib\n"
     ]
    }
   ],
   "source": [
    "%pylab inline\n",
    "label_1 = 'All Teams'\n",
    "label_2 = 'Champion Teams'"
   ]
  },
  {
   "cell_type": "markdown",
   "metadata": {},
   "source": [
    "对比整体数据集胜率均值和总冠军数据集的胜率"
   ]
  },
  {
   "cell_type": "code",
   "execution_count": 32,
   "metadata": {
    "collapsed": false
   },
   "outputs": [
    {
     "data": {
      "image/png": "[encoded data removed]",
      "text/plain": [
       "<matplotlib.figure.Figure at 0x7fdeabe04890>"
      ]
     },
     "metadata": {},
     "output_type": "display_data"
    }
   ],
   "source": [
    "drawGrid(\n",
    "    df_analysis_all_teams.mean()['yearID'],\n",
    "    df_analysis_all_teams.mean()['WinRate'],\n",
    "    df_analysis_champion_teams['yearID'],\n",
    "    df_analysis_champion_teams['WinRate'],\n",
    "    label_1,\n",
    "    label_2\n",
    ")"
   ]
  },
  {
   "cell_type": "markdown",
   "metadata": {},
   "source": [
    "从上图可看出，夺取总冠军的队伍胜率均远超于联盟平均胜率"
   ]
  },
  {
   "cell_type": "markdown",
   "metadata": {},
   "source": [
    " "
   ]
  },
  {
   "cell_type": "markdown",
   "metadata": {},
   "source": [
    "对比整体数据集全垒打数均值和总冠军数据集的全垒打数"
   ]
  },
  {
   "cell_type": "code",
   "execution_count": 33,
   "metadata": {
    "collapsed": false
   },
   "outputs": [
    {
     "data": {
      "image/png": "[encoded data removed]",
      "text/plain": [
       "<matplotlib.figure.Figure at 0x7fdeab96d410>"
      ]
     },
     "metadata": {},
     "output_type": "display_data"
    }
   ],
   "source": [
    "drawGrid(\n",
    "    df_analysis_all_teams.mean()['yearID'],\n",
    "    df_analysis_all_teams.mean()['HR'],\n",
    "    df_analysis_champion_teams['yearID'],\n",
    "    df_analysis_champion_teams['HR'],\n",
    "    label_1,\n",
    "    label_2\n",
    ")"
   ]
  },
  {
   "cell_type": "markdown",
   "metadata": {},
   "source": [
    "从上图可看出，夺取总冠军的队伍的全垒打数波动比联盟平均水平较大"
   ]
  },
  {
   "cell_type": "markdown",
   "metadata": {},
   "source": [
    " "
   ]
  },
  {
   "cell_type": "markdown",
   "metadata": {},
   "source": [
    "对比整体数据集三振数均值和总冠军数据集的三振数"
   ]
  },
  {
   "cell_type": "code",
   "execution_count": 34,
   "metadata": {
    "collapsed": false
   },
   "outputs": [
    {
     "data": {
      "image/png": "[encoded data removed]",
      "text/plain": [
       "<matplotlib.figure.Figure at 0x7fdeabdf7d10>"
      ]
     },
     "metadata": {},
     "output_type": "display_data"
    }
   ],
   "source": [
    "drawGrid(\n",
    "    df_analysis_all_teams.mean()['yearID'],\n",
    "    df_analysis_all_teams.mean()['SO'],\n",
    "    df_analysis_champion_teams['yearID'],\n",
    "    df_analysis_champion_teams['SO'],\n",
    "    label_1,\n",
    "    label_2\n",
    ")"
   ]
  },
  {
   "cell_type": "markdown",
   "metadata": {},
   "source": [
    "从上图可看出，夺取总冠军的队伍的三振数在多数情况下低于联盟平均水平，且波动较大"
   ]
  },
  {
   "cell_type": "markdown",
   "metadata": {},
   "source": [
    " "
   ]
  },
  {
   "cell_type": "markdown",
   "metadata": {},
   "source": [
    "对比整体数据集盗垒数均值和总冠军数据集的盗垒数"
   ]
  },
  {
   "cell_type": "code",
   "execution_count": 35,
   "metadata": {
    "collapsed": false
   },
   "outputs": [
    {
     "data": {
      "image/png": "[encoded data removed]",
      "text/plain": [
       "<matplotlib.figure.Figure at 0x7fdeabad7fd0>"
      ]
     },
     "metadata": {},
     "output_type": "display_data"
    }
   ],
   "source": [
    "drawGrid(\n",
    "    df_analysis_all_teams.mean()['yearID'],\n",
    "    df_analysis_all_teams.mean()['SB'],\n",
    "    df_analysis_champion_teams['yearID'],\n",
    "    df_analysis_champion_teams['SB'],\n",
    "    label_1,\n",
    "    label_2\n",
    ")"
   ]
  },
  {
   "cell_type": "markdown",
   "metadata": {},
   "source": [
    "从上图可看出，夺取总冠军的队伍的盗垒数波动比联盟平均水平较大"
   ]
  },
  {
   "cell_type": "markdown",
   "metadata": {},
   "source": [
    "### 3.3.3 针对问题【队伍LAN最近10年入选全明星的球员的数据有什么特点】的数据探索处理"
   ]
  },
  {
   "cell_type": "code",
   "execution_count": 36,
   "metadata": {
    "collapsed": false
   },
   "outputs": [
    {
     "name": "stdout",
     "output_type": "stream",
     "text": [
      "493\n",
      "29\n"
     ]
    }
   ],
   "source": [
    "# 计算打击率\n",
    "def calculateHitRate(df_lan_batting_row):\n",
    "    if df_lan_batting_row.AB == 0:\n",
    "        return float(0)\n",
    "    else:\n",
    "        return float(df_lan_batting_row.H) / float(df_lan_batting_row.AB)\n",
    "# 添加打击率列至整体数据集\n",
    "df_batting['HitRate'] = df_batting.apply(calculateHitRate,axis=1)\n",
    "# 队伍LAN所有球员的数据统计\n",
    "df_lan_batting = df_batting[df_batting['teamID']=='LAN']\n",
    "\"\"\"\n",
    "由于全明星数据集只包含入选的球员ID数据\n",
    "其对应的比赛数据保存与数据集df_batting中\n",
    "故针对此问题，需首先将df_allstar和df_batting合并\n",
    "\"\"\"\n",
    "# 队伍LAN全明星球员的数据统计\n",
    "df_lan_allstar_batting = df_allstar.merge(df_lan_batting,on=['yearID','teamID','playerID'],how='inner')\n",
    "    \n",
    "print len(df_lan_batting)\n",
    "print len(df_lan_allstar_batting)"
   ]
  },
  {
   "cell_type": "markdown",
   "metadata": {},
   "source": [
    "按年度分组两个数据集"
   ]
  },
  {
   "cell_type": "code",
   "execution_count": 37,
   "metadata": {
    "collapsed": false
   },
   "outputs": [],
   "source": [
    "df_analysis_lan_batting = df_lan_batting.groupby(['yearID'])['yearID','H','AB','HitRate','HR','SO','SB']\n",
    "df_analysis_lan_allstar_batting = df_lan_allstar_batting.groupby(['yearID'])[['yearID','H','AB','HitRate','HR','SO','SB']].mean()"
   ]
  },
  {
   "cell_type": "markdown",
   "metadata": {},
   "source": [
    "打印按年度统计的队伍LAN所有球员的数据集"
   ]
  },
  {
   "cell_type": "code",
   "execution_count": 38,
   "metadata": {
    "collapsed": false
   },
   "outputs": [
    {
     "name": "stdout",
     "output_type": "stream",
     "text": [
      "Minimum value by each year\n",
      "        yearID  H  AB  HitRate  HR   SO   SB\n",
      "yearID                                      \n",
      "2007      2007  0   0      0.0   0  0.0  0.0\n",
      "2008      2008  0   0      0.0   0  0.0  0.0\n",
      "2009      2009  0   0      0.0   0  0.0  0.0\n",
      "2010      2010  0   0      0.0   0  0.0  0.0\n",
      "2011      2011  0   0      0.0   0  0.0  0.0\n",
      "2012      2012  0   0      0.0   0  0.0  0.0\n",
      "2013      2013  0   0      0.0   0  0.0  0.0\n",
      "2014      2014  0   0      0.0   0  0.0  0.0\n",
      "2015      2015  0   0      0.0   0  0.0  0.0\n",
      "2016      2016  0   0      0.0   0  0.0  0.0\n",
      "============================================\n",
      "Maximum value by each year\n",
      "        yearID    H   AB   HitRate  HR     SO    SB\n",
      "yearID                                             \n",
      "2007      2007  196  668  0.382353  20   89.0  64.0\n",
      "2008      2008  176  606  0.395722  20  153.0  40.0\n",
      "2009      2009  180  613  0.500000  31  139.0  34.0\n",
      "2010      2010  157  602  1.000000  28  170.0  22.0\n",
      "2011      2011  195  602  0.323920  39  159.0  40.0\n",
      "2012      2012  158  556  0.333333  23  124.0  32.0\n",
      "2013      2013  171  583  0.345395  22   98.0  15.0\n",
      "2014      2014  176  609  0.340278  27  145.0  64.0\n",
      "2015      2015  157  571  1.000000  28  170.0  12.0\n",
      "2016      2016  193  627  0.333333  27  133.0  10.0\n",
      "============================================\n",
      "Mean value by each year\n",
      "        yearID          H          AB   HitRate        HR         SO        SB\n",
      "yearID                                                                        \n",
      "2007    2007.0  34.311111  124.755556  0.170899  2.866667  19.200000  3.044444\n",
      "2008    2008.0  31.630435  119.695652  0.157466  2.978261  22.434783  2.739130\n",
      "2009    2009.0  32.148936  118.978723  0.175027  3.085106  22.723404  2.468085\n",
      "2010    2010.0  27.918367  110.734694  0.151522  2.448980  24.163265  1.877551\n",
      "2011    2011.0  29.062500  113.250000  0.142614  2.437500  22.645833  2.625000\n",
      "2012    2012.0  27.380000  108.760000  0.143338  2.320000  23.120000  2.080000\n",
      "2013    2013.0  29.530612  112.061224  0.137216  2.816327  23.387755  1.591837\n",
      "2014    2014.0  30.122449  113.469388  0.141389  2.734694  25.428571  2.816327\n",
      "2015    2015.0  24.472727   97.909091  0.143230  3.400000  22.872727  1.072727\n",
      "2016    2016.0  25.018182  100.327273  0.125272  3.436364  24.018182  0.818182\n",
      "============================================\n",
      "Standard deviation by each year\n",
      "        yearID          H          AB   HitRate        HR         SO  \\\n",
      "yearID                                                                 \n",
      "2007       0.0  55.285960  187.568067  0.122816  5.492143  23.343872   \n",
      "2008       0.0  51.408326  176.373073  0.120700  5.531683  32.369157   \n",
      "2009       0.0  57.305808  203.394828  0.136523  7.055155  36.635515   \n",
      "2010       0.0  45.181042  166.126555  0.170250  5.827597  36.522451   \n",
      "2011       0.0  47.410119  161.350748  0.118102  6.337683  31.448363   \n",
      "2012       0.0  39.613382  144.384204  0.122682  4.884127  29.773732   \n",
      "2013       0.0  46.228194  162.222251  0.122561  5.483587  31.454873   \n",
      "2014       0.0  52.414070  180.580788  0.125596  6.075139  37.422141   \n",
      "2015       0.0  40.783010  154.845595  0.173415  6.430829  35.144176   \n",
      "2016       0.0  47.138681  172.053615  0.119797  7.522223  39.133433   \n",
      "\n",
      "               SB  \n",
      "yearID             \n",
      "2007    10.552801  \n",
      "2008     8.130696  \n",
      "2009     6.912028  \n",
      "2010     4.612631  \n",
      "2011     7.356066  \n",
      "2012     5.397808  \n",
      "2013     3.475620  \n",
      "2014     9.886172  \n",
      "2015     2.379344  \n",
      "2016     1.906042  \n"
     ]
    }
   ],
   "source": [
    "printDiscrtption(df_analysis_lan_batting)"
   ]
  },
  {
   "cell_type": "markdown",
   "metadata": {},
   "source": [
    "从上述统计项可看出，每年都会出现统计项为0的球员"
   ]
  },
  {
   "cell_type": "markdown",
   "metadata": {},
   "source": [
    " "
   ]
  },
  {
   "cell_type": "markdown",
   "metadata": {},
   "source": [
    "打印按年度统计的队伍LAN全明星球员的数据集"
   ]
  },
  {
   "cell_type": "code",
   "execution_count": 18,
   "metadata": {
    "collapsed": false
   },
   "outputs": [
    {
     "name": "stdout",
     "output_type": "stream",
     "text": [
      "        yearID           H          AB   HitRate         HR         SO  \\\n",
      "yearID                                                                   \n",
      "2007    2007.0   58.000000  201.666667  0.179582   6.333333  37.333333   \n",
      "2008    2008.0  155.000000  553.000000  0.280289  13.000000  83.000000   \n",
      "2009    2009.0   55.333333  202.666667  0.153898   3.333333  41.000000   \n",
      "2010    2010.0   66.500000  225.250000  0.148083   7.750000  40.750000   \n",
      "2011    2011.0  117.666667  386.666667  0.280284  16.666667  91.666667   \n",
      "2012    2012.0   67.000000  230.500000  0.254813  11.500000  61.000000   \n",
      "2013    2013.0   14.000000   77.000000  0.181818   1.000000  24.000000   \n",
      "2014    2014.0   91.000000  322.500000  0.239825   4.750000  66.250000   \n",
      "2015    2015.0   73.000000  308.800000  0.213963  14.400000  81.200000   \n",
      "2016    2016.0   67.000000  224.333333  0.160576   8.666667  48.333333   \n",
      "\n",
      "               SB  \n",
      "yearID             \n",
      "2007     7.000000  \n",
      "2008    18.000000  \n",
      "2009     2.666667  \n",
      "2010     6.000000  \n",
      "2011    13.333333  \n",
      "2012     4.500000  \n",
      "2013     0.000000  \n",
      "2014    19.000000  \n",
      "2015     1.000000  \n",
      "2016     1.000000  \n"
     ]
    }
   ],
   "source": [
    "print df_analysis_lan_allstar_batting"
   ]
  },
  {
   "cell_type": "markdown",
   "metadata": {},
   "source": [
    "从上述统计项结合整个LAN队伍的数据集可看出，全明星球员比队伍的其他球员的统计项多数要高"
   ]
  },
  {
   "cell_type": "code",
   "execution_count": 19,
   "metadata": {
    "collapsed": false
   },
   "outputs": [
    {
     "name": "stdout",
     "output_type": "stream",
     "text": [
      "Populating the interactive namespace from numpy and matplotlib\n"
     ]
    }
   ],
   "source": [
    "%pylab inline\n",
    "label_1 = 'All Players'\n",
    "label_2 = 'All Star Players'"
   ]
  },
  {
   "cell_type": "markdown",
   "metadata": {},
   "source": [
    "对比队伍LAN全部球员数据集的打击率均值和队伍LAN全明星球员的打击率"
   ]
  },
  {
   "cell_type": "code",
   "execution_count": 20,
   "metadata": {
    "collapsed": false
   },
   "outputs": [
    {
     "data": {
      "image/png": "[encoded data removed]",
      "text/plain": [
       "<matplotlib.figure.Figure at 0x7fdeabcd8050>"
      ]
     },
     "metadata": {},
     "output_type": "display_data"
    }
   ],
   "source": [
    "drawGrid(\n",
    "    df_analysis_lan_batting.mean()['yearID'],\n",
    "    df_analysis_lan_batting.mean()['HitRate'],\n",
    "    df_analysis_lan_allstar_batting['yearID'],\n",
    "    df_analysis_lan_allstar_batting['HitRate'],\n",
    "    label_1,\n",
    "    label_2\n",
    ")"
   ]
  },
  {
   "cell_type": "markdown",
   "metadata": {},
   "source": [
    "从上图可看出，队伍LAN入选全明星的球员比其他球员的打击率多数情况下要多"
   ]
  },
  {
   "cell_type": "markdown",
   "metadata": {},
   "source": [
    " "
   ]
  },
  {
   "cell_type": "markdown",
   "metadata": {},
   "source": [
    "对比队伍LAN全部球员数据集的全垒打数均值和队伍LAN全明星球员的全垒打数"
   ]
  },
  {
   "cell_type": "code",
   "execution_count": 39,
   "metadata": {
    "collapsed": false
   },
   "outputs": [
    {
     "data": {
      "image/png": "[encoded data removed]",
      "text/plain": [
       "<matplotlib.figure.Figure at 0x7fdeab9fa990>"
      ]
     },
     "metadata": {},
     "output_type": "display_data"
    }
   ],
   "source": [
    "drawGrid(\n",
    "    df_analysis_lan_batting.mean()['yearID'],\n",
    "    df_analysis_lan_batting.mean()['HR'],\n",
    "    df_analysis_lan_allstar_batting['yearID'],\n",
    "    df_analysis_lan_allstar_batting['HR'],\n",
    "    label_1,\n",
    "    label_2\n",
    ")"
   ]
  },
  {
   "cell_type": "markdown",
   "metadata": {},
   "source": [
    "从上图可看出，队伍LAN入选全明星的球员比其他球员的全垒打数多数情况下要多"
   ]
  },
  {
   "cell_type": "markdown",
   "metadata": {},
   "source": [
    " "
   ]
  },
  {
   "cell_type": "markdown",
   "metadata": {},
   "source": [
    "对比队伍LAN全部球员数据集的三振数均值和队伍LAN全明星球员的三振数"
   ]
  },
  {
   "cell_type": "code",
   "execution_count": 40,
   "metadata": {
    "collapsed": false
   },
   "outputs": [
    {
     "data": {
      "image/png": "[encoded data removed]",
      "text/plain": [
       "<matplotlib.figure.Figure at 0x7fdeab8ffd90>"
      ]
     },
     "metadata": {},
     "output_type": "display_data"
    }
   ],
   "source": [
    "drawGrid(\n",
    "    df_analysis_lan_batting.mean()['yearID'],\n",
    "    df_analysis_lan_batting.mean()['SO'],\n",
    "    df_analysis_lan_allstar_batting['yearID'],\n",
    "    df_analysis_lan_allstar_batting['SO'],\n",
    "    label_1,\n",
    "    label_2\n",
    ")"
   ]
  },
  {
   "cell_type": "markdown",
   "metadata": {},
   "source": [
    "从上图可看出，队伍LAN入选全明星的球员比其他球员的三振数多数情况下要多"
   ]
  },
  {
   "cell_type": "markdown",
   "metadata": {},
   "source": [
    " "
   ]
  },
  {
   "cell_type": "markdown",
   "metadata": {},
   "source": [
    "对比队伍LAN全部球员数据集的盗垒数均值和队伍LAN全明星球员的盗垒数"
   ]
  },
  {
   "cell_type": "code",
   "execution_count": 41,
   "metadata": {
    "collapsed": false
   },
   "outputs": [
    {
     "data": {
      "image/png": "[encoded data removed]",
      "text/plain": [
       "<matplotlib.figure.Figure at 0x7fdeab95e850>"
      ]
     },
     "metadata": {},
     "output_type": "display_data"
    }
   ],
   "source": [
    "drawGrid(\n",
    "    df_analysis_lan_batting.mean()['yearID'],\n",
    "    df_analysis_lan_batting.mean()['SB'],\n",
    "    df_analysis_lan_allstar_batting['yearID'],\n",
    "    df_analysis_lan_allstar_batting['SB'],\n",
    "    label_1,\n",
    "    label_2\n",
    ")"
   ]
  },
  {
   "cell_type": "markdown",
   "metadata": {},
   "source": [
    "从上图可看出，队伍LAN入选全明星的球员比其他球员的盗垒数多数情况下要多，但也出现几乎相同的情况"
   ]
  },
  {
   "cell_type": "markdown",
   "metadata": {},
   "source": [
    " "
   ]
  },
  {
   "cell_type": "markdown",
   "metadata": {},
   "source": [
    "队伍LAN每年入选全明星的球员所占比例"
   ]
  },
  {
   "cell_type": "code",
   "execution_count": 42,
   "metadata": {
    "collapsed": false
   },
   "outputs": [
    {
     "data": {
      "text/plain": [
       "<matplotlib.axes._subplots.AxesSubplot at 0x7fdeaba20350>"
      ]
     },
     "execution_count": 42,
     "metadata": {},
     "output_type": "execute_result"
    },
    {
     "data": {
      "image/png": "[encoded data removed]",
      "text/plain": [
       "<matplotlib.figure.Figure at 0x7fdeaba74e50>"
      ]
     },
     "metadata": {},
     "output_type": "display_data"
    }
   ],
   "source": [
    "def bulidYearRdsDf(df_lan_allstar_batting,df_analysis_lan_allstar_batting):\n",
    "    df_year_rds = pd.DataFrame(data={\n",
    "            'all_star_players':df_analysis_lan_allstar_batting.count()['yearID'],\n",
    "            'all_players':df_analysis_lan_batting.count()['yearID']-df_analysis_lan_allstar_batting.count()['yearID']\n",
    "            \n",
    "        }\n",
    "    )\n",
    "    return df_year_rds\n",
    "\n",
    "df_year_rds = bulidYearRdsDf(df_lan_allstar_batting,df_analysis_lan_allstar_batting)\n",
    "#按比例画出各年份的堆积图\n",
    "df_year_rds.plot(kind='bar', stacked=True, color=['red', 'blue'])"
   ]
  },
  {
   "cell_type": "markdown",
   "metadata": {},
   "source": [
    "从上图可看出，队伍LAN入选全明星的球员占队伍总球员数比例较为平均"
   ]
  },
  {
   "cell_type": "markdown",
   "metadata": {},
   "source": [
    "# 4 结论阶段"
   ]
  },
  {
   "cell_type": "markdown",
   "metadata": {
    "collapsed": true
   },
   "source": [
    "## 4.1 问题探索结论"
   ]
  },
  {
   "cell_type": "markdown",
   "metadata": {},
   "source": [
    "### 4.1.1 针对问题【最近10年夺取总冠军的队伍的数据有什么特点】的探索结论\n",
    "\n",
    "    1.夺取总冠军的队伍胜率均远超于联盟平均胜率\n",
    "    2.全垒打数不会对夺取总冠军的产生较大影响\n",
    "    3.夺取总冠军的队伍的三震数多数情况下低于联盟平均水平\n",
    "    4.盗垒数不会对夺取总冠军的产生较大影响"
   ]
  },
  {
   "cell_type": "markdown",
   "metadata": {},
   "source": [
    "### 4.1.2 针对问题【队伍LAN最近10年入选全明星的球员的数据有什么特点】的探索结论\n"
   ]
  },
  {
   "cell_type": "markdown",
   "metadata": {},
   "source": [
    "    1.队伍LAN的全明星球员的打击率在多数情况下高于队伍平均水平\n",
    "    2.队伍LAN的全明星球员的全垒打数在多数情况下高于队伍平均水平\n",
    "    3.队伍LAN的全明星球员的三震数在多数情况下高于队伍平均水平\n",
    "    4.队伍LAN的全明星球员的盗垒数在多数情况下高于队伍平均水平\n",
    "    5.队伍LAN的平均每年入选全明星的球员数目相对稳定"
   ]
  },
  {
   "cell_type": "markdown",
   "metadata": {},
   "source": [
    "## 4.2 结论性质"
   ]
  },
  {
   "cell_type": "markdown",
   "metadata": {},
   "source": [
    "### 4.2.1 针对问题【最近10年夺取总冠军的队伍的数据有什么特点】的结论性质"
   ]
  },
  {
   "cell_type": "markdown",
   "metadata": {},
   "source": [
    "此结论只是在基于主要统计项所得出，而从已探索的统计项已可知，并不代表夺取总冠军的队伍的所有统计项均高于当年的联盟平均水平\n",
    "\n",
    "而且，此研究只基于最近10年的数据得出，且由于多数统计项的波动比联盟水平要大，\n",
    "\n",
    "所以，此研究的结论，只是可以得出在主要数据项上的排名，并不是决定最近10年夺取总冠军的队伍主要因素\n",
    "\n",
    "如统计更多数据项，将可对问题得出更加严谨的结论"
   ]
  },
  {
   "cell_type": "markdown",
   "metadata": {},
   "source": [
    "### 4.2.2 针对问题【队伍LAN最近10年入选全明星的球员的数据有什么特点】的结论性质"
   ]
  },
  {
   "cell_type": "markdown",
   "metadata": {},
   "source": [
    "此结论在已探索的统计项可知，对于队伍LAN来说，\n",
    "\n",
    "其入选全明星的球员，其数据项的统计在多数情况下都优于队伍的平均水平\n",
    "\n",
    "而虽然，此研究只基于最近10年的数据得出，\n",
    "\n",
    "但根据对全明星赛的理解，其处于队伍较优水平的球员是入选的重要因素，\n",
    "\n",
    "所以，可以推断出，在之前年份或其他队伍中，其入选全明星的球员的数据项应在较多数情况下优于当年的队伍平均水平\n",
    "\n",
    "如可增大研究年份和研究的队伍，可加强此结论的说服性"
   ]
  }
 ],
 "metadata": {
  "kernelspec": {
   "display_name": "Python 2",
   "language": "python",
   "name": "python2"
  },
  "language_info": {
   "codemirror_mode": {
    "name": "ipython",
    "version": 2
   },
   "file_extension": ".py",
   "mimetype": "text/x-python",
   "name": "python",
   "nbconvert_exporter": "python",
   "pygments_lexer": "ipython2",
   "version": "2.7.13"
  }
 },
 "nbformat": 4,
 "nbformat_minor": 2
}
