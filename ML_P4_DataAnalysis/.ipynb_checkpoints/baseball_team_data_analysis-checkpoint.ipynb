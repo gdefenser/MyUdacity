{
 "cells": [
  {
   "cell_type": "markdown",
   "metadata": {},
   "source": [
    "# 1 分析阶段"
   ]
  },
  {
   "cell_type": "markdown",
   "metadata": {},
   "source": [
    "## 1.1 提出分析的问题\n",
    "\n",
    "1) 最近10年夺取总冠军的队伍的数据有什么特点\n",
    "\n",
    "2) 最近10年入选全明星的球员的数据有什么特点"
   ]
  },
  {
   "cell_type": "markdown",
   "metadata": {},
   "source": [
    "## 1.2 获取使用的数据文件\n",
    "AllstarFull.csv\t历年全明星球员数据\n",
    "\n",
    "Batting.csv\t    历年球员赛季击球数据\n",
    "\n",
    "Teams.csv\t    历年队伍数据"
   ]
  },
  {
   "cell_type": "markdown",
   "metadata": {},
   "source": [
    "# 2 数据整理阶段"
   ]
  },
  {
   "cell_type": "markdown",
   "metadata": {},
   "source": [
    "## 2.1 引用需要使用的第三方库\n"
   ]
  },
  {
   "cell_type": "code",
   "execution_count": 32,
   "metadata": {
    "collapsed": true
   },
   "outputs": [],
   "source": [
    "import numpy as np\n",
    "import pandas as pd"
   ]
  },
  {
   "cell_type": "markdown",
   "metadata": {},
   "source": [
    "## 2.2 读取数据集\n",
    "\n",
    "相关数据集只读取最近10年的数据，以提高后续数据处理的效率"
   ]
  },
  {
   "cell_type": "code",
   "execution_count": 33,
   "metadata": {
    "collapsed": true
   },
   "outputs": [],
   "source": [
    "folder_path = '/home/loveshadev/PycharmProjects/Udacity/ML_P4_DataAnalysis/'\n",
    "\n",
    "#filter Data set\n",
    "def filterDfByLastTenYears(df):\n",
    "    return df[(df['yearID'] >= 2007) & (df['yearID'] <= 2017)]\n",
    "\n",
    "#read data-set of All star\n",
    "df_allstar = filterDfByLastTenYears(pd.read_csv(folder_path+'AllstarFull.csv'))\n",
    "#read data-set of Batting\n",
    "df_batting = filterDfByLastTenYears(pd.read_csv(folder_path+'Batting.csv'))\n",
    "#read data-set of Teams\n",
    "df_teams = filterDfByLastTenYears(pd.read_csv(folder_path+'Teams.csv'))"
   ]
  },
  {
   "cell_type": "markdown",
   "metadata": {},
   "source": [
    "## 2.3 检查数据集数据量"
   ]
  },
  {
   "cell_type": "code",
   "execution_count": 34,
   "metadata": {
    "collapsed": false
   },
   "outputs": [
    {
     "name": "stdout",
     "output_type": "stream",
     "text": [
      "759\n",
      "14124\n",
      "300\n"
     ]
    }
   ],
   "source": [
    "print len(df_allstar)\n",
    "print len(df_batting)\n",
    "print len(df_teams)"
   ]
  },
  {
   "cell_type": "markdown",
   "metadata": {},
   "source": [
    "## 2.4 确定数据集的特征关键字字段\n",
    "\n",
    "经过检查\n",
    "\n",
    "数据集AllstarFull.csv中包含以下特征字段playerID,teamID\n",
    "\n",
    "数据集Batting.csv中包含以下特征字段playerID,teamID\n",
    "\n",
    "数据集Teams.csv中包含以下特征字段teamID"
   ]
  },
  {
   "cell_type": "markdown",
   "metadata": {},
   "source": [
    "# 3 探索阶段"
   ]
  },
  {
   "cell_type": "markdown",
   "metadata": {},
   "source": [
    "## 3.1 确定问题探索的数据集列\n",
    "### 3.1.1 针对问题【最近10年夺取联盟冠军的队伍的数据有什么特点】的探索数据列\n",
    "            (1)胜率:胜场数/参赛数 df_teams['W']/df_teams['G']\n",
    "            (2)全垒打数 df_teams['HR']\n",
    "            (3)三振数 df_teams['SO']\n",
    "            (4)盗垒数 df_teams['SB']\n",
    "\n",
    "### 3.1.2 针对问题【最近10年入选全明星的球员的数据有什么特点】的探索数据列\n",
    "            (1)打击率:安打数/打数 df_batting['H']/df_batting['AB']\n",
    "            (2)全垒打数 df_batting['HR']\n",
    "            (3)三振数 df_batting['SO']\n",
    "            (4)盗垒数 df_batting['SB']"
   ]
  },
  {
   "cell_type": "markdown",
   "metadata": {},
   "source": [
    "## 3.2 确定问题探索的对比对象\n",
    "### 3.2.1 针对问题【最近10年夺取联盟冠军的队伍的数据有什么特点】的对比对象\n",
    "            与同一年的其他队伍的相同数据列的统计指标对比\n",
    "            \n",
    "            统计指标包含： \n",
    "            最小值      \n",
    "            最大值  \n",
    "            均值   \n",
    "            标准差\n",
    "### 3.2.2 针对问题【最近10年入选全明星的球员的数据有什么特点】的对比对象\n",
    "            与同一年的同一队伍的队友的相同数据列的统计指标对比\n",
    "            \n",
    "            统计指标包含：      \n",
    "            最小值 \n",
    "            最大值    \n",
    "            均值      \n",
    "            标准差"
   ]
  },
  {
   "cell_type": "code",
   "execution_count": null,
   "metadata": {
    "collapsed": true
   },
   "outputs": [],
   "source": []
  }
 ],
 "metadata": {
  "kernelspec": {
   "display_name": "Python 2",
   "language": "python",
   "name": "python2"
  },
  "language_info": {
   "codemirror_mode": {
    "name": "ipython",
    "version": 2
   },
   "file_extension": ".py",
   "mimetype": "text/x-python",
   "name": "python",
   "nbconvert_exporter": "python",
   "pygments_lexer": "ipython2",
   "version": "2.7.13"
  }
 },
 "nbformat": 4,
 "nbformat_minor": 2
}
