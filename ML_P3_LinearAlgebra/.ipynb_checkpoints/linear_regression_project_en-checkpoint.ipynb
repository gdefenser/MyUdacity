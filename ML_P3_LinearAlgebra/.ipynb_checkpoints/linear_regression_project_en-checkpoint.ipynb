{
 "cells": [
  {
   "cell_type": "markdown",
   "metadata": {},
   "source": [
    "# 1 Matrix operations\n",
    "\n",
    "## 1.1 Create a 4*4 identity matrix"
   ]
  },
  {
   "cell_type": "code",
   "execution_count": null,
   "metadata": {
    "collapsed": true
   },
   "outputs": [],
   "source": [
    "#This project is designed to get familiar with python list and linear algebra\n",
    "#You cannot use import any library yourself, especially numpy\n",
    "\n",
    "A = [[1,2,3], \n",
    "     [2,3,3], \n",
    "     [1,2,5]]\n",
    "\n",
    "B = [[1,2,3,5], \n",
    "     [2,3,3,5], \n",
    "     [1,2,5,1]]\n",
    "\n",
    "I = [[1,2,3,4],\n",
    "     [2,3,3,5],\n",
    "     [1,2,5,1],\n",
    "     [3,4,5,6]]"
   ]
  },
  {
   "cell_type": "markdown",
   "metadata": {},
   "source": [
    "## 1.2 get the width and height of a matrix. "
   ]
  },
  {
   "cell_type": "code",
   "execution_count": null,
   "metadata": {
    "collapsed": true
   },
   "outputs": [],
   "source": [
    "def shape(M):\n",
    "    return len(M[0]),len(M)"
   ]
  },
  {
   "cell_type": "markdown",
   "metadata": {},
   "source": [
    "## 1.3 round all elements in M to certain decimal points"
   ]
  },
  {
   "cell_type": "code",
   "execution_count": null,
   "metadata": {
    "collapsed": true
   },
   "outputs": [],
   "source": [
    "def matxRound(M, decPts=4):\n",
    "    for row in range(len(M)):\n",
    "        for col in range(len(M[row])):\n",
    "            M[row][col] = round(M[row][col],decPts)\n",
    "    print M"
   ]
  },
  {
   "cell_type": "markdown",
   "metadata": {},
   "source": [
    "## 1.4 compute transpose of M"
   ]
  },
  {
   "cell_type": "code",
   "execution_count": null,
   "metadata": {
    "collapsed": true
   },
   "outputs": [],
   "source": [
    "def transpose(M):\n",
    "    t_M = []\n",
    "    for col in range(len(M[0])):\n",
    "        n_row = []\n",
    "        for row in range(len(M)):\n",
    "            if len(M[row]) != len(M[0]):\n",
    "                return None\n",
    "            else:\n",
    "                n_row.append(M[row][col])\n",
    "        t_M.append(n_row)\n",
    "    return t_M"
   ]
  },
  {
   "cell_type": "markdown",
   "metadata": {},
   "source": [
    "## 1.5 compute AB. return None if the dimensions don't match"
   ]
  },
  {
   "cell_type": "code",
   "execution_count": null,
   "metadata": {
    "collapsed": true
   },
   "outputs": [],
   "source": [
    "def matxMultiply(A, B):\n",
    "    multiply = []\n",
    "\n",
    "    for row_a in range(len(A)):\n",
    "        multiply_row = []\n",
    "        if len(A[row_a]) != len(B):\n",
    "            return None\n",
    "            #exit by None when cols in A not equal to rows in B\n",
    "        else:\n",
    "            for col_b in range(len(A)):#rows in A equal to cols in B\n",
    "                if len(B[col_b]) != len(A):\n",
    "                    return None # exit by None when cols in B not equal to rows in A\n",
    "                col_sum = 0\n",
    "                for row_b in range(len(B)):#rows in B equal to cols in A\n",
    "                    col_sum += A[row_a][row_b] * B[row_b][col_b]\n",
    "                multiply_row.append(col_sum)\n",
    "            multiply.append(multiply_row)\n",
    "    return multiply"
   ]
  },
  {
   "cell_type": "markdown",
   "metadata": {},
   "source": [
    "## 1.6 Test your implementation"
   ]
  },
  {
   "cell_type": "code",
   "execution_count": null,
   "metadata": {
    "collapsed": true
   },
   "outputs": [],
   "source": [
    "A = [[1,2,3],\n",
    "     [2,3,3],\n",
    "     [1,2,5]]\n",
    "B = [[1.333,2.444,3.555,5.666],\n",
    "     [2,3,3,5],\n",
    "     [1,2,5,1]]\n",
    "I = [[1,2,3,4],\n",
    "     [2,3,3,5],\n",
    "     [1,2,5,1],\n",
    "     [3,4,5,6]]\n",
    "#test the shape function\n",
    "print shape(A)\n",
    "#test the round function\n",
    "matxRound(B,2)\n",
    "#test the transpose funtion\n",
    "print transpose(B)\n",
    "#test the matxMultiply function, when the dimensions don't match\n",
    "I1 = [[1,2,3,4],\n",
    "      [4,5,6,7],\n",
    "      [8,9,10,11]]\n",
    "I2 = [[1,4,8],\n",
    "      [2,5,9],\n",
    "      [3,6,10],\n",
    "      [4,8,11]]\n",
    "print matxMultiply(I1,I2)\n",
    "#test the matxMultiply function, when the dimensions do match\n",
    "I3 = [[1,2,3,4,5],\n",
    "      [4,5,6,7],\n",
    "      [8,9,10,11]]\n",
    "I4 = [[1,4,8],\n",
    "      [2,5,9],\n",
    "      [3,6,10],\n",
    "      [4,8,11]]\n",
    "print matxMultiply(I3,I4)"
   ]
  },
  {
   "cell_type": "markdown",
   "metadata": {},
   "source": [
    "# 2 Gaussian Jordan Elimination\n",
    "\n",
    "## 2.1 Compute augmented Matrix \n",
    "\n",
    "$ A = \\begin{bmatrix}\n",
    "    a_{11}    & a_{12} & ... & a_{1n}\\\\\n",
    "    a_{21}    & a_{22} & ... & a_{2n}\\\\\n",
    "    a_{31}    & a_{22} & ... & a_{3n}\\\\\n",
    "    ...    & ... & ... & ...\\\\\n",
    "    a_{n1}    & a_{n2} & ... & a_{nn}\\\\\n",
    "\\end{bmatrix} , b = \\begin{bmatrix}\n",
    "    b_{1}  \\\\\n",
    "    b_{2}  \\\\\n",
    "    b_{3}  \\\\\n",
    "    ...    \\\\\n",
    "    b_{n}  \\\\\n",
    "\\end{bmatrix}$\n",
    "\n",
    "Return $ Ab = \\begin{bmatrix}\n",
    "    a_{11}    & a_{12} & ... & a_{1n} & b_{1}\\\\\n",
    "    a_{21}    & a_{22} & ... & a_{2n} & b_{2}\\\\\n",
    "    a_{31}    & a_{22} & ... & a_{3n} & b_{3}\\\\\n",
    "    ...    & ... & ... & ...& ...\\\\\n",
    "    a_{n1}    & a_{n2} & ... & a_{nn} & b_{n} \\end{bmatrix}$"
   ]
  },
  {
   "cell_type": "code",
   "execution_count": null,
   "metadata": {
    "collapsed": true
   },
   "outputs": [],
   "source": [
    "def augmentMatrix(A, b):\n",
    "    if len(A) == len(b):\n",
    "        for row in range(len(A)):\n",
    "            if len(b[row]) == 1:\n",
    "                A[row].append(b[row][0])\n",
    "            else:\n",
    "                return None\n",
    "        return A\n",
    "    return None"
   ]
  },
  {
   "cell_type": "markdown",
   "metadata": {},
   "source": [
    "## 2.2 Basic row operations\n",
    "- exchange two rows\n",
    "- scale a row\n",
    "- add a scaled row to another"
   ]
  },
  {
   "cell_type": "code",
   "execution_count": null,
   "metadata": {
    "collapsed": true
   },
   "outputs": [],
   "source": [
    "def swapRows(M, r1, r2):\n",
    "    M[r1],M[r2] = M[r2],M[r1]\n",
    "\n",
    "def scaleRow(M, r, scale):\n",
    "    if scale != 0:\n",
    "        for c in range(len(M[r])):\n",
    "            M[r][c] *= scale\n",
    "            if M[r][c] == -0:\n",
    "                M[r][c] = 0\n",
    "        #M[r] = [elm*scale for elm in M[r]]\n",
    "\n",
    "def addScaledRow(M, r1, r2, scale):\n",
    "    if scale != 0:\n",
    "        for c in range(len(M[r1])):\n",
    "            M[r1][c] = M[r1][c]+M[r2][c]*scale\n",
    "            if M[r1][c] == -0:\n",
    "                M[r1][c] = 0\n",
    "        #M[r1] = [elm1+elm2*scale for elm1,elm2 in zip(M[r1],M[r2])]"
   ]
  },
  {
   "cell_type": "markdown",
   "metadata": {},
   "source": [
    "## 2.3  Gauss-jordan method to solve Ax = b\n",
    "\n",
    "### Hint：\n",
    "\n",
    "Step 1: Check if A and b have same number of rows\n",
    "Step 2: Construct augmented matrix Ab\n",
    "\n",
    "Step 3: Column by column, transform Ab to reduced row echelon form [wiki link](https://en.wikipedia.org/wiki/Row_echelon_form#Reduced_row_echelon_form)\n",
    "    \n",
    "    for every column of Ab (except the last one)\n",
    "        column c is the current column\n",
    "        Find in column c, at diagnal and under diagnal (row c ~ N) the maximum absolute value\n",
    "        If the maximum absolute value is 0\n",
    "            then A is singular, return None （Prove this proposition in Question 2.4）\n",
    "        else\n",
    "            Apply row operation 1, swap the row of maximum with the row of diagnal element (row c)\n",
    "            Apply row operation 2, scale the diagonal element of column c to 1\n",
    "            Apply row operation 3 mutiple time, eliminate every other element in column c\n",
    "            \n",
    "Step 4: return the last column of Ab\n",
    "\n",
    "### Remark：\n",
    "We don't use the standard algorithm first transfering Ab to row echelon form and then to reduced row echelon form.  Instead, we arrives directly at reduced row echelon form. If you are familiar with the stardard way, try prove to yourself that they are equivalent. "
   ]
  },
  {
   "cell_type": "code",
   "execution_count": null,
   "metadata": {
    "collapsed": true
   },
   "outputs": [],
   "source": [
    "\"\"\" Gauss-jordan method to solve x such that Ax = b.\n",
    "        A: square matrix, list of lists\n",
    "        b: column vector, list of lists\n",
    "        decPts: degree of rounding, default value 4\n",
    "        epsilon: threshold for zero, default value 1.0e-16\n",
    "        \n",
    "    return x such that Ax = b, list of lists \n",
    "    return None if A and b have same height\n",
    "    return None if A is (almost) singular\n",
    "\"\"\"\n",
    "from decimal import Decimal\n",
    "from copy import deepcopy\n",
    "\n",
    "def gj_Solve(A, b, decPts=4, epsilon=1.0e-16):\n",
    "    mA = deepcopy(A)\n",
    "    mb = deepcopy(b)\n",
    "    len_A = len(mA)\n",
    "    len_b = len(mb)\n",
    "    if len_A == len_b:\n",
    "        matrix = augmentMatrix(mA,mb)\n",
    "        floatMatrix(matrix)\n",
    "        for c in range(0,len(matrix)):\n",
    "            max = findUnderDiagonalMaximumRow(matrix,c,len(matrix))\n",
    "            max_row = max[0]\n",
    "            max_col = max[1]\n",
    "            max_elm = max[2]\n",
    "            if isZero(max_elm,epsilon):\n",
    "                return None\n",
    "            else:\n",
    "                swapRows(matrix,c,max_row)\n",
    "                s = float(1)/matrix[c][c]\n",
    "                scaleRow(matrix,c,s)\n",
    "                for row in range(len(matrix)):\n",
    "                    if c != row and not isZero(matrix[row][c],epsilon):\n",
    "                        s_r = -matrix[row][c]/matrix[c][c]\n",
    "                        addScaledRow(matrix,row,c,s_r)\n",
    "        floatMatrix(matrix)\n",
    "        return matrix\n",
    "    return None\n",
    "\n",
    "def floatMatrix(Ab,decPts=2):\n",
    "    for row in range(len(Ab)):\n",
    "        for col in range(len(Ab[row])):\n",
    "            Ab[row][col] = round(float(Ab[row][col]),decPts)\n",
    "\n",
    "def findUnderDiagonalMaximumRow(A,col,row_range):\n",
    "    max = [0]*3\n",
    "    for row in range(0,row_range):\n",
    "        if row >= col:\n",
    "            elm = abs(A[row][col])\n",
    "            if elm > abs(max[2]):\n",
    "                max[0] = row\n",
    "                max[1] = col\n",
    "                max[2] = float(elm)\n",
    "    return max\n",
    "\n",
    "def isZero(value, eps):\n",
    "    return abs(Decimal(value)) < eps\n",
    "\n",
    "def getResult(Ab):\n",
    "    if Ab is not None:\n",
    "        result = []\n",
    "        for row in range(len(Ab)):\n",
    "            result.append([Ab[row][len(Ab[row])-1]])\n",
    "        return result\n",
    "    return None"
   ]
  },
  {
   "cell_type": "markdown",
   "metadata": {},
   "source": [
    "## 2.4 Prove the following proposition:\n",
    "\n",
    "**If square matrix A can be divided into four parts: ** \n",
    "\n",
    "$ A = \\begin{bmatrix}\n",
    "    I    & X \\\\\n",
    "    Z    & Y \\\\\n",
    "\\end{bmatrix} $, where I is the identity matrix, Z is all zero and the first column of Y is all zero, \n",
    "\n",
    "**then A is singular.**\n",
    "\n",
    "Hint: There are mutiple ways to prove this problem.  \n",
    "- consider the rank of Y and A\n",
    "- consider the determinate of Y and A \n",
    "- consider certain column is the linear combination of other columns"
   ]
  },
  {
   "cell_type": "markdown",
   "metadata": {},
   "source": [
    "**Proves**\n",
    "\n",
    "Use determinate to judge A is or is not singular\n",
    "\n",
    "Assume A is:\n",
    "\n",
    "$\n",
    "A_o = \\begin{bmatrix}\n",
    "    a_{11}&a_{12}& ... &a_{1n}\\\\\n",
    "    a_{21}&a_{22}& ... &a_{2n}\\\\\n",
    "    a_{31}&a_{22}& ... &a_{3n}\\\\\n",
    "    ...   & ...  & ... & ...\\\\\n",
    "    a_{n1}&a_{n2}& ... &a_{nn}\\\\\n",
    "\\end{bmatrix} \n",
    "$\n",
    "\n",
    "Step 1:Use the Gauss-jordan method to get diagnal matrix from A:\n",
    "\n",
    "$\n",
    "Ag = \\begin{bmatrix}\n",
    "    a_{11}&0& ... &0\\\\\n",
    "    0&a_{22}& ... &a_{2n}\\\\\n",
    "    0&0& ... &0\\\\\n",
    "    ...   & ...  & ... & ...\\\\\n",
    "    0&0& ... &a_{nn}\\\\\n",
    "\\end{bmatrix} \n",
    "$\n",
    "\n",
    "Step 2:Follow the definition to calculate determinate,because we expected all the elements in Ag is zero except the diagonal,so the formula of determinate would be:\n",
    "\n",
    "$\n",
    "D(Ag)=a_{11}a_{22}...a_{nn}\n",
    "$\n",
    "\n",
    "Step 3:if D(Ag) equal to 0 then A is **singular**,otherwise is **not singular**"
   ]
  },
  {
   "cell_type": "markdown",
   "metadata": {
    "collapsed": true
   },
   "source": [
    "**Proof**"
   ]
  },
  {
   "cell_type": "code",
   "execution_count": null,
   "metadata": {
    "collapsed": true
   },
   "outputs": [],
   "source": [
    "#singular function\n",
    "def isSingular(A,b):\n",
    "    d_matrix = gj_Solve(A,b)\n",
    "    if d_matrix is not None:\n",
    "        determinate = 1.0\n",
    "        for rc in range(len(d_matrix)):\n",
    "            determinate *= d_matrix[rc][rc]\n",
    "        if isZero(determinate) :\n",
    "            return True\n",
    "        else:\n",
    "            return False\n",
    "    return True\n",
    "# construct A and b where A is singular\n",
    "A1 = [[1,1,1],\n",
    "     [0,-1,0],\n",
    "     [0,0,0]]\n",
    "b1 = [[1],\n",
    "     [2],\n",
    "     [2]]\n",
    "# construct A and b where A is not singular\n",
    "A2 = [[1,1,1],\n",
    "     [0,1,0],\n",
    "     [1,1,-1]]\n",
    "b2 = [[1],\n",
    "     [2],\n",
    "     [3]]\n",
    "\n",
    "print isSingular(A1,b1)\n",
    "print isSingular(A2,b2)"
   ]
  },
  {
   "cell_type": "markdown",
   "metadata": {},
   "source": [
    "## 2.5 Test your gj_Solve() implementation"
   ]
  },
  {
   "cell_type": "code",
   "execution_count": null,
   "metadata": {
    "collapsed": true
   },
   "outputs": [],
   "source": [
    "# construct A and b where A is singular\n",
    "A1 = [[1,1,1],\n",
    "     [0,-1,0],\n",
    "     [0,0,0]]\n",
    "b1 = [[1],\n",
    "     [2],\n",
    "     [2]]\n",
    "x1 = gj_Solve(A1,b1)\n",
    "# construct A and b where A is not singular\n",
    "A2 = [[1,1,1],\n",
    "     [0,1,0],\n",
    "     [1,1,-1]]\n",
    "b2 = [[1],\n",
    "     [2],\n",
    "     [3]]\n",
    "x2 = gj_Solve(A2,b2)\n",
    "# solve x for  Ax = b \n",
    "def calculateAx(A,x):\n",
    "    Ax = []\n",
    "    for row in range(len(A)):\n",
    "        row_result = 0.0\n",
    "        for col in range(len(A[row])):\n",
    "            row_result += A[row][col]*x[col][0]\n",
    "        Ax.append([row_result])\n",
    "    return Ax\n",
    "# compute Ax\n",
    "Ax2 = calculateAx(A2,x2)\n",
    "# compare Ax and b\n",
    "def isEqual(Ax,b):\n",
    "    if len(Ax) == len(b):\n",
    "        for row in range(len(Ax)):\n",
    "            if float(Ax[row][0]) != float(b[row][0]):\n",
    "                return False\n",
    "    return True\n",
    "\n",
    "print isEqual(Ax2,b2)"
   ]
  },
  {
   "cell_type": "markdown",
   "metadata": {},
   "source": [
    "# 3 Linear Regression: \n",
    "\n",
    "## 3.1 Compute the gradient of loss function with respect to parameters \n",
    "## (Choose one between two 3.1 questions)\n",
    "\n",
    "We define loss funtion E as \n",
    "$$\n",
    "E(m, b) = \\sum_{i=1}^{n}{(y_i - mx_i - b)^2}\n",
    "$$\n",
    "\n",
    "Proves that \n",
    "$$\n",
    "\\frac{\\partial E}{\\partial m} = \\sum_{i=1}^{n}{-2x_i(y_i - mx_i - b)}\n",
    "$$\n",
    "\n",
    "$$\n",
    "\\frac{\\partial E}{\\partial b} = \\sum_{i=1}^{n}{-2(y_i - mx_i - b)}\n",
    "$$\n",
    "\n",
    "$$\n",
    "\\begin{bmatrix}\n",
    "    \\frac{\\partial E}{\\partial m} \\\\\n",
    "    \\frac{\\partial E}{\\partial b} \n",
    "\\end{bmatrix} = 2X^TXh - 2X^TY\n",
    "$$\n",
    "\n",
    "$$ \n",
    "\\text{, where }\n",
    "Y =  \\begin{bmatrix}\n",
    "    y_1 \\\\\n",
    "    y_2 \\\\\n",
    "    ... \\\\\n",
    "    y_n\n",
    "\\end{bmatrix}\n",
    ",\n",
    "X =  \\begin{bmatrix}\n",
    "    x_1 & 1 \\\\\n",
    "    x_2 & 1\\\\\n",
    "    ... & ...\\\\\n",
    "    x_n & 1 \\\\\n",
    "\\end{bmatrix},\n",
    "h =  \\begin{bmatrix}\n",
    "    m \\\\\n",
    "    b \\\\\n",
    "\\end{bmatrix}\n",
    "$$"
   ]
  },
  {
   "cell_type": "markdown",
   "metadata": {},
   "source": [
    "TODO Please use latex （refering to the latex in problem may help）\n",
    "\n",
    "TODO Proof："
   ]
  },
  {
   "cell_type": "markdown",
   "metadata": {},
   "source": [
    "## 3.1 Compute the gradient of loss function with respect to parameters \n",
    "## (Choose one between two 3.1 questions)\n",
    "\n",
    "Proves that \n",
    "$$\n",
    "E = Y^TY -2(Xh)^TY + (Xh)^TXh\n",
    "$$\n",
    "\n",
    "$$\n",
    "\\frac{\\partial E}{\\partial h} = 2X^TXh - 2X^TY\n",
    "$$\n",
    "\n",
    "$$ \n",
    "\\text{,where }\n",
    "Y =  \\begin{bmatrix}\n",
    "    y_1 \\\\\n",
    "    y_2 \\\\\n",
    "    ... \\\\\n",
    "    y_n\n",
    "\\end{bmatrix}\n",
    ",\n",
    "X =  \\begin{bmatrix}\n",
    "    x_1 & 1 \\\\\n",
    "    x_2 & 1\\\\\n",
    "    ... & ...\\\\\n",
    "    x_n & 1 \\\\\n",
    "\\end{bmatrix},\n",
    "h =  \\begin{bmatrix}\n",
    "    m \\\\\n",
    "    b \\\\\n",
    "\\end{bmatrix}\n",
    "$$"
   ]
  },
  {
   "cell_type": "markdown",
   "metadata": {},
   "source": [
    "TODO Please use latex （refering to the latex in problem may help）\n",
    "\n",
    "TODO Proof："
   ]
  },
  {
   "cell_type": "markdown",
   "metadata": {},
   "source": [
    "## 3.2  Linear Regression\n",
    "### Solve equation $X^TXh = X^TY $ to compute the best parameter for linear regression."
   ]
  },
  {
   "cell_type": "code",
   "execution_count": null,
   "metadata": {
    "collapsed": true
   },
   "outputs": [],
   "source": [
    "#TODO implement linear regression \n",
    "'''\n",
    "points: list of (x,y) tuple\n",
    "return m and b\n",
    "'''\n",
    "def linearRegression(points):\n",
    "    return 0,0"
   ]
  },
  {
   "cell_type": "markdown",
   "metadata": {},
   "source": [
    "## 3.3 Test your linear regression implementation"
   ]
  },
  {
   "cell_type": "code",
   "execution_count": null,
   "metadata": {
    "collapsed": true
   },
   "outputs": [],
   "source": [
    "#TODO Construct the linear function\n",
    "\n",
    "#TODO Construct points with gaussian noise\n",
    "import random\n",
    "\n",
    "#TODO Compute m and b and compare with ground truth"
   ]
  }
 ],
 "metadata": {
  "anaconda-cloud": {},
  "celltoolbar": "Raw Cell Format",
  "kernelspec": {
   "display_name": "Python 2",
   "language": "python",
   "name": "python2"
  },
  "language_info": {
   "codemirror_mode": {
    "name": "ipython",
    "version": 2
   },
   "file_extension": ".py",
   "mimetype": "text/x-python",
   "name": "python",
   "nbconvert_exporter": "python",
   "pygments_lexer": "ipython2",
   "version": "2.7.13"
  }
 },
 "nbformat": 4,
 "nbformat_minor": 2
}
